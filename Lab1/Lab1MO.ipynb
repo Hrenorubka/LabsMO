{
 "cells": [
  {
   "cell_type": "markdown",
   "metadata": {},
   "source": [
    "# Лабораторная работа 1.\n",
    "# Методы оптимизации. Вариант 7\n",
    "# Выполнил студент 381803-3 Ермолаев Илья"
   ]
  },
  {
   "cell_type": "code",
   "execution_count": 1,
   "metadata": {},
   "outputs": [],
   "source": [
    "import numpy as np\n",
    "import matplotlib.pyplot as plt"
   ]
  },
  {
   "cell_type": "markdown",
   "metadata": {},
   "source": [
    "Наша исходная функция: y(x) = cos(x^3 - x^2 - 1)"
   ]
  },
  {
   "cell_type": "markdown",
   "metadata": {},
   "source": [
    "Построим ее график, чтобы найти отрезок унимодальности."
   ]
  },
  {
   "cell_type": "code",
   "execution_count": 2,
   "metadata": {
    "scrolled": true
   },
   "outputs": [
    {
     "data": {
      "text/plain": [
       "<function matplotlib.pyplot.show(close=None, block=None)>"
      ]
     },
     "execution_count": 2,
     "metadata": {},
     "output_type": "execute_result"
    },
    {
     "data": {
      "image/png": "[encoded data removed]",
      "text/plain": [
       "<Figure size 432x288 with 1 Axes>"
      ]
     },
     "metadata": {
      "needs_background": "light"
     },
     "output_type": "display_data"
    }
   ],
   "source": [
    "y = lambda x: np.cos(x**3 - x**2 - 1.0)\n",
    "yDer = lambda x: (-3.0 * (x ** 2) + 2.0 * x) * np.sin(x ** 3 - x ** 2 - 1.0)\n",
    "y2 = lambda x: -x**2\n",
    "y2Der = lambda x: 2.0 * x\n",
    "fig = plt.subplots()\n",
    "x = np.linspace(-1, 1, 100)\n",
    "plt.plot(x, y(x))\n",
    "plt.show"
   ]
  },
  {
   "cell_type": "markdown",
   "metadata": {},
   "source": [
    "Возьмем отрезок x = [0, 1]"
   ]
  },
  {
   "cell_type": "markdown",
   "metadata": {},
   "source": [
    "# Наша задача минимизировать нашу функцию на выбранном отрезке, т. е. найти глобальный \\ локальный минимум у функции"
   ]
  },
  {
   "cell_type": "markdown",
   "metadata": {},
   "source": [
    "## Реализуем метод дихотомии"
   ]
  },
  {
   "cell_type": "code",
   "execution_count": 3,
   "metadata": {},
   "outputs": [],
   "source": [
    "def dichotomyMethod(func, left, right, delta, eps, maxIter):\n",
    "    a = left\n",
    "    b = right\n",
    "    for i in range(maxIter):\n",
    "        yk = (a + b - delta) / 2.0\n",
    "        zk = (a + b + delta) / 2.0\n",
    "        if (func(yk) <= func(zk)):\n",
    "            b = zk\n",
    "        else:\n",
    "            a = yk\n",
    "        if (abs(b - a) < eps):\n",
    "            return (b + a) / 2.0\n",
    "    return null"
   ]
  },
  {
   "cell_type": "code",
   "execution_count": 4,
   "metadata": {
    "scrolled": true
   },
   "outputs": [
    {
     "name": "stdout",
     "output_type": "stream",
     "text": [
      "Ответ через метод дихотомии: 0.6666679215656282\n"
     ]
    }
   ],
   "source": [
    "print('Ответ через метод дихотомии: ' + str(dichotomyMethod(y, 0.0, 1.0, 0.1 ** 7, 0.1 ** 5, 3000)))"
   ]
  },
  {
   "cell_type": "markdown",
   "metadata": {},
   "source": [
    "## Реализуем метод половинного деления"
   ]
  },
  {
   "cell_type": "code",
   "execution_count": 5,
   "metadata": {},
   "outputs": [],
   "source": [
    "def halfDivisionMethod(func, left, right, eps, maxIter):\n",
    "    a = left\n",
    "    b = right\n",
    "    \n",
    "    xk = (a + b) / 2.0\n",
    "    yk = (a + xk) / 2.0\n",
    "    zk = (xk + b) / 2.0\n",
    "    \n",
    "    fkx = func(xk)\n",
    "    fky = func(yk)\n",
    "    fkz = func(zk)\n",
    "    \n",
    "    for i in range(maxIter):\n",
    "        yk = (a + xk) / 2.0\n",
    "        zk = (xk + b) / 2.0\n",
    "        fky = func(yk)\n",
    "        fkz = func(zk)\n",
    "        if (fky <= fkx):\n",
    "            b = xk\n",
    "            xk = yk\n",
    "            fkx = fky\n",
    "        elif (fkx > fkz):\n",
    "            a = xk\n",
    "            xk = zk\n",
    "            fkx = fkz\n",
    "        elif (fkx <= fkz):\n",
    "            a = yk\n",
    "            b = zk\n",
    "        if (abs(b - a) < eps):\n",
    "            return (b + a) / 2.0\n",
    "    return null"
   ]
  },
  {
   "cell_type": "code",
   "execution_count": 6,
   "metadata": {
    "scrolled": true
   },
   "outputs": [
    {
     "name": "stdout",
     "output_type": "stream",
     "text": [
      "Ответ через метод половинного деления: 0.6666679382324219\n"
     ]
    }
   ],
   "source": [
    "print('Ответ через метод половинного деления: ' + str(halfDivisionMethod(y, 0.0, 1.0, 0.1 ** 5, 3000)))"
   ]
  },
  {
   "cell_type": "markdown",
   "metadata": {},
   "source": [
    "## Реализуем метод золотого сечения"
   ]
  },
  {
   "cell_type": "code",
   "execution_count": 7,
   "metadata": {},
   "outputs": [],
   "source": [
    "def goldenRatioMethod(func, left, right, eps, maxIter):\n",
    "    a = left\n",
    "    b = right\n",
    "    t = (1.0 + 5 ** 0.5) / 2.0\n",
    "    yk = b - (b - a) / t\n",
    "    zk = a + (b - a) / t\n",
    "    fyk = func(yk)\n",
    "    fzk = func(zk)\n",
    "    \n",
    "    for i in range(maxIter):\n",
    "        if (fyk <= fzk):\n",
    "            b = zk\n",
    "            zk = yk\n",
    "            fzk = fyk\n",
    "            yk = b  - (b - a) / t\n",
    "            fyk = func(yk)\n",
    "        else:\n",
    "            a = yk\n",
    "            yk = zk\n",
    "            fyk = fzk\n",
    "            zk = a + (b - a) / t\n",
    "            fzk = func(zk)\n",
    "        if (b - a < eps):\n",
    "            return (b + a) / 2.0\n",
    "    return null"
   ]
  },
  {
   "cell_type": "code",
   "execution_count": 8,
   "metadata": {},
   "outputs": [
    {
     "name": "stdout",
     "output_type": "stream",
     "text": [
      "Ответ через метод золотого сечения: 0.6666650591873868\n"
     ]
    }
   ],
   "source": [
    "print('Ответ через метод золотого сечения: ' + str(goldenRatioMethod(y, 0.0, 1.0, 0.1 ** 5, 3000)))"
   ]
  },
  {
   "cell_type": "markdown",
   "metadata": {},
   "source": [
    "## Реализуем метод Фибоначи"
   ]
  },
  {
   "cell_type": "markdown",
   "metadata": {},
   "source": [
    "Реализуем получение последовательности Фибоначи:"
   ]
  },
  {
   "cell_type": "code",
   "execution_count": 9,
   "metadata": {},
   "outputs": [],
   "source": [
    "def createFibSeq(N):\n",
    "    if (N <= 2):\n",
    "        return N\n",
    "    else:\n",
    "        out = []\n",
    "        out.append(1)\n",
    "        out.append(1)\n",
    "        for i in range(2, N):\n",
    "            out.append(out[i - 1] + out[i - 2])\n",
    "        return out"
   ]
  },
  {
   "cell_type": "code",
   "execution_count": 10,
   "metadata": {
    "scrolled": false
   },
   "outputs": [
    {
     "name": "stdout",
     "output_type": "stream",
     "text": [
      "55\n"
     ]
    }
   ],
   "source": [
    "print(createFibSeq(10)[-1])"
   ]
  },
  {
   "cell_type": "code",
   "execution_count": 11,
   "metadata": {},
   "outputs": [],
   "source": [
    "def FibonachiMethod(func, left, right, delta, eps):\n",
    "    i_N = 3\n",
    "    N = createFibSeq(i_N)[-1]\n",
    "    while (N < (right - left) / eps):\n",
    "        i_N+=1\n",
    "        N = createFibSeq(i_N)[-1]\n",
    "    FibSeq = createFibSeq(i_N)\n",
    "    a = left\n",
    "    b = right\n",
    "    y = a + FibSeq[i_N - 3] / FibSeq[i_N - 1] * (b - a)\n",
    "    z = b - FibSeq[i_N - 3] / FibSeq[i_N - 1] * (b - a)\n",
    "    fy = func(y)\n",
    "    fz = func(z)\n",
    "    k = 0\n",
    "    while k < (i_N - 3):\n",
    "        if (fy <= fz):\n",
    "            b = z\n",
    "            z = y\n",
    "            fz = fy\n",
    "            y = a + FibSeq[i_N - k - 4] / FibSeq[i_N - k - 2] * (b - a)\n",
    "            fy = func(y)\n",
    "        else:\n",
    "            a = y\n",
    "            y = z\n",
    "            fy = fz\n",
    "            z = b - FibSeq[i_N - k - 4] / FibSeq[i_N - k - 2] * (b - a)\n",
    "            fz = func(z)\n",
    "        k+=1\n",
    "    z = y - delta\n",
    "    if (func(y) <= func(z)):\n",
    "        b = z\n",
    "    else:\n",
    "        a = y\n",
    "    return (b + a) / 2.0"
   ]
  },
  {
   "cell_type": "code",
   "execution_count": 12,
   "metadata": {
    "scrolled": true
   },
   "outputs": [
    {
     "name": "stdout",
     "output_type": "stream",
     "text": [
      "Ответ через метод Фибоначи: 0.6666735314227343\n"
     ]
    }
   ],
   "source": [
    "print('Ответ через метод Фибоначи: ' + str(FibonachiMethod(y, 0.0, 1.0, 0.1 ** 7, 0.1 ** 5)))"
   ]
  },
  {
   "cell_type": "markdown",
   "metadata": {},
   "source": [
    "# Минимизируем нашу функцию при помощи интерполяции"
   ]
  },
  {
   "cell_type": "markdown",
   "metadata": {},
   "source": [
    "## Воспользуемся квадратичной интерполяцией"
   ]
  },
  {
   "cell_type": "code",
   "execution_count": 13,
   "metadata": {},
   "outputs": [],
   "source": [
    "def QuadInterMethod(func, x0, h, eps, delta, maxIter):\n",
    "    x = []\n",
    "    y = []\n",
    "    fmin = 0.0\n",
    "    xmin = 0.0\n",
    "    flag1 = True\n",
    "    flag2 = True\n",
    "    for j in range(maxIter):\n",
    "        if (flag2):\n",
    "            if (flag1):\n",
    "                x = []\n",
    "                y = []\n",
    "                x.append(x0)\n",
    "            x.append(x[0] + h)\n",
    "            y.append(func(x[0]))\n",
    "            y.append(func(x[1]))\n",
    "            if (y[0] > y[1]):\n",
    "                x.append(x[0] + 2 * h)\n",
    "            else:\n",
    "                x.append(x[0] - h)\n",
    "            y.append(func(x[2]))\n",
    "        fmin = min(y)\n",
    "        xmin = 0.0\n",
    "        for i in range(len(y)):\n",
    "            if (fmin == y[i]):\n",
    "                xmin = x[i]\n",
    "        beta12 = x[1] ** 2 - x[2] ** 2\n",
    "        beta20 = x[2] ** 2 - x[0] ** 2\n",
    "        beta01 = x[0] ** 2 - x[1] ** 2\n",
    "        gamma12 = x[1] - x[2]\n",
    "        gamma20 = x[2] - x[0]\n",
    "        gamma01 = x[0] - x[1]\n",
    "        denom = gamma12 * y[0] + gamma20 * y[1] + gamma01 * y[2]\n",
    "        if denom == 0.0:\n",
    "            x = []\n",
    "            y = []\n",
    "            x.append(xmin)\n",
    "            flag1 = False\n",
    "            flag2 = True\n",
    "            continue\n",
    "        xInt = 0.5 * (beta12 * y[0] + beta20 * y[1] + beta01 * y[2]) / (denom)\n",
    "        yInt = func(xInt)\n",
    "        #if (j % 1000 == 0): \n",
    "        #    print('xInt ' + str(xInt))\n",
    "        #    print('xmin ' + str(xmin))\n",
    "        #    print('fInt ' + str(yInt))\n",
    "        #    print('fmin ' + str(fmin))\n",
    "        if (abs(fmin - yInt) < eps) & (abs(xmin - xInt) < eps):\n",
    "            return xInt\n",
    "        else:\n",
    "            sx = x\n",
    "            sx.sort()\n",
    "            if (xInt >= sx[0]) & (xInt <= sx[2]):\n",
    "                x = []\n",
    "                if (fmin < yInt):\n",
    "                    x.append(xmin)\n",
    "                else:\n",
    "                    x.append(xInt)\n",
    "                x.append(x[0] + h)\n",
    "                x.append(x[0] - h)\n",
    "                y = []\n",
    "                for i in range(len(x)):\n",
    "                    y.append(func(x[i]))\n",
    "                flag1 = True\n",
    "                flag2 = False\n",
    "            else:\n",
    "                x = []\n",
    "                y = []\n",
    "                x.append(xInt)\n",
    "                flag1 = False\n",
    "                flag2 = True\n",
    "    return False"
   ]
  },
  {
   "cell_type": "code",
   "execution_count": 14,
   "metadata": {
    "scrolled": true
   },
   "outputs": [
    {
     "name": "stdout",
     "output_type": "stream",
     "text": [
      "Ответ через квадратичную интерполяцию: 0.6666166704678813\n"
     ]
    }
   ],
   "source": [
    "print('Ответ через квадратичную интерполяцию: ' + str(QuadInterMethod(y, 0.50, 0.01, 0.1 ** 4, 0.1 ** 4, 3000)))"
   ]
  },
  {
   "cell_type": "markdown",
   "metadata": {},
   "source": [
    "## Воспользуемся кубической интерполяцией"
   ]
  },
  {
   "cell_type": "markdown",
   "metadata": {},
   "source": [
    "Для этого нам понадобилась производная нашей функции. Я ее вычислил ручками. За нее отвечает функция yDef."
   ]
  },
  {
   "cell_type": "code",
   "execution_count": 15,
   "metadata": {},
   "outputs": [],
   "source": [
    "def sign(x):\n",
    "    if (x > 0):\n",
    "        return 1.0\n",
    "    elif (x == 0):\n",
    "        return 0.0\n",
    "    else:\n",
    "        return -1.0\n",
    "\n",
    "def CubInterMethod(func, funcDer, x0, h, eps, delta, maxIter):\n",
    "    flag = True\n",
    "    xCur = x0\n",
    "    xPrev = 0.0\n",
    "    fDer = funcDer(xCur)\n",
    "    fDerprev = 0.0\n",
    "    k = 1.0\n",
    "    if fDer > 0:\n",
    "        k = -1\n",
    "    xPrev = xCur\n",
    "    fDerPrev = fDer\n",
    "    xCur = xPrev + k * h\n",
    "    fDer = funcDer(xCur)\n",
    "    while (fDerPrev * fDer) > 0:\n",
    "        k *= 2          \n",
    "        xPrev = xCur\n",
    "        fDerPrev = fDer\n",
    "        xCur = xPrev + k * h\n",
    "        fDer = funcDer(xCur)\n",
    "    x1 = xPrev\n",
    "    x2 = xCur\n",
    "    y1 = func(x1)\n",
    "    y1Der = funcDer(x1)\n",
    "    y2 = func(x2)\n",
    "    y2Der = funcDer(x2)\n",
    "    xInt = 0.0\n",
    "    for j in range(maxIter):\n",
    "        beta1 = y1Der + y2Der - 3.0 * (y1 - y2) / (x1 - x2)\n",
    "        beta2 = sign(x2 - x1) * (beta1 ** 2 - y1Der * y2Der) ** 0.5\n",
    "        beta =  (y2Der + beta2 - beta1) / (y2Der - y1Der + 2.0 * beta2)\n",
    "        xInt = 0.0\n",
    "        if (beta < 0.0):\n",
    "            xInt = x2\n",
    "        elif (0.0 <= beta <= 1.0):\n",
    "            xInt = x2 - beta * (x2 - x1)\n",
    "        else:\n",
    "            xInt = x1\n",
    "        yInt = func(xInt)\n",
    "        if (yInt >= y1):\n",
    "            xInt = 0.5 * (xInt + x1)\n",
    "            yInt = func(xInt)\n",
    "            while (yInt > y1):\n",
    "                xInt = 0.5 * (xInt + x1)\n",
    "                yInt = func(xInt)\n",
    "        if abs(xInt) >= 1.0:\n",
    "            if (abs(funcDer(xInt)) <= eps) & (abs((xInt - x1) / xInt) <=delta):\n",
    "                return xInt\n",
    "        else:\n",
    "            if (abs(funcDer(xInt)) <= eps) & (abs(xInt - x1) <=delta):\n",
    "                return xInt\n",
    "        if (funcDer(xInt) * y1Der < 0.0):\n",
    "            x2 = x1\n",
    "            y2 = y1\n",
    "            y2Der = y1Der\n",
    "            x1 = xInt\n",
    "            y1 = func(x1)\n",
    "            y1Der = funcDer(x1)\n",
    "        elif(funcDer(xInt) * y2Der< 0.0):\n",
    "            x1 = xInt\n",
    "            y1 = func(x1)\n",
    "            y1Der= funcDer(x1)\n",
    "    return xInt"
   ]
  },
  {
   "cell_type": "code",
   "execution_count": 16,
   "metadata": {
    "scrolled": true
   },
   "outputs": [
    {
     "name": "stdout",
     "output_type": "stream",
     "text": [
      "Ответ через кубическую интерполяцию: 0.6666666597974895\n"
     ]
    }
   ],
   "source": [
    "print('Ответ через кубическую интерполяцию: ' + str(CubInterMethod(y, yDer, 0.5, 0.01, 0.1 ** 4, 0.1 ** 4, 3000)))"
   ]
  },
  {
   "cell_type": "markdown",
   "metadata": {},
   "source": [
    "# Минимизируем функцию методом ломаных и модифицированным методом ломаных"
   ]
  },
  {
   "cell_type": "markdown",
   "metadata": {},
   "source": [
    "Напишем функцию для поиска константы Липшица."
   ]
  },
  {
   "cell_type": "code",
   "execution_count": 17,
   "metadata": {},
   "outputs": [],
   "source": [
    "def constLip(func, a, b, maxIter):\n",
    "    L = []\n",
    "    x = []\n",
    "    i = a\n",
    "    h = (b - a) / maxIter\n",
    "    while i <= b:\n",
    "        x.append(i)\n",
    "        i += h \n",
    "    for j in range (len(x) - 1):    \n",
    "        L.append(abs(func(x[j + 1]) - func(x[j])) / (x[j + 1] - x[j]))\n",
    "    return max(L)"
   ]
  },
  {
   "cell_type": "markdown",
   "metadata": {},
   "source": [
    "## Воспользуемся модифицированным методом ломаных"
   ]
  },
  {
   "cell_type": "code",
   "execution_count": 18,
   "metadata": {},
   "outputs": [],
   "source": [
    "def modifPolilyneMethod(func, x0, a, b, eps, maxIter):\n",
    "    L = constLip(func, a, b, 10000)\n",
    "    h = 2.0 * eps / L\n",
    "    z = b - 0.5 * h\n",
    "    x = a + 0.5 * h\n",
    "    f = func(x)\n",
    "    xmin = x\n",
    "    fmin = f\n",
    "    for i in range(maxIter):\n",
    "        zn = x + h + (f - fmin) / L\n",
    "        if (x < z <= zn):\n",
    "            x = min(zn, b)\n",
    "            f = func(x)\n",
    "            if f < fmin:\n",
    "                xmin = x\n",
    "                fmin = f\n",
    "            return xmin\n",
    "        x = zn\n",
    "        f = func(x)\n",
    "        if f < fmin:\n",
    "            xmin = x\n",
    "            fmin = f\n",
    "    print('bbb')\n",
    "    return xmin"
   ]
  },
  {
   "cell_type": "code",
   "execution_count": 19,
   "metadata": {
    "scrolled": false
   },
   "outputs": [
    {
     "name": "stdout",
     "output_type": "stream",
     "text": [
      "Ответ через модифицированный метод ломаных: -0.9999996611535481\n"
     ]
    }
   ],
   "source": [
    "print('Ответ через модифицированный метод ломаных: ' + str(modifPolilyneMethod(y, 0.5, -1.0, 1.0, 0.1 ** 6, 100000)))"
   ]
  },
  {
   "cell_type": "code",
   "execution_count": null,
   "metadata": {},
   "outputs": [],
   "source": []
  }
 ],
 "metadata": {
  "kernelspec": {
   "display_name": "Python 3",
   "language": "python",
   "name": "python3"
  },
  "language_info": {
   "codemirror_mode": {
    "name": "ipython",
    "version": 3
   },
   "file_extension": ".py",
   "mimetype": "text/x-python",
   "name": "python",
   "nbconvert_exporter": "python",
   "pygments_lexer": "ipython3",
   "version": "3.8.5"
  }
 },
 "nbformat": 4,
 "nbformat_minor": 4
}
